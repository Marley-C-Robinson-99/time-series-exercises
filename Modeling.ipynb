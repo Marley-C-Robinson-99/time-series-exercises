{
 "cells": [
  {
   "cell_type": "code",
   "execution_count": 1,
   "id": "a38bdf75",
   "metadata": {},
   "outputs": [],
   "source": [
    "import warnings\n",
    "warnings.filterwarnings('ignore')\n",
    "\n",
    "import pandas as pd\n",
    "import seaborn as sns\n",
    "import matplotlib.pyplot as plt\n",
    "\n",
    "import statsmodels.tsa.api as sm\n",
    "\n",
    "%matplotlib inline\n",
    "url = 'https://ds.codeup.com/saas.csv'"
   ]
  },
  {
   "cell_type": "code",
   "execution_count": 2,
   "id": "5ba8c999",
   "metadata": {},
   "outputs": [],
   "source": [
    "df = pd.read_csv(url)"
   ]
  },
  {
   "cell_type": "code",
   "execution_count": 3,
   "id": "11b7d5f8",
   "metadata": {},
   "outputs": [
    {
     "data": {
      "text/html": [
       "<div>\n",
       "<style scoped>\n",
       "    .dataframe tbody tr th:only-of-type {\n",
       "        vertical-align: middle;\n",
       "    }\n",
       "\n",
       "    .dataframe tbody tr th {\n",
       "        vertical-align: top;\n",
       "    }\n",
       "\n",
       "    .dataframe thead th {\n",
       "        text-align: right;\n",
       "    }\n",
       "</style>\n",
       "<table border=\"1\" class=\"dataframe\">\n",
       "  <thead>\n",
       "    <tr style=\"text-align: right;\">\n",
       "      <th></th>\n",
       "      <th>Month_Invoiced</th>\n",
       "      <th>Customer_Id</th>\n",
       "      <th>Invoice_Id</th>\n",
       "      <th>Subscription_Type</th>\n",
       "      <th>Amount</th>\n",
       "    </tr>\n",
       "  </thead>\n",
       "  <tbody>\n",
       "    <tr>\n",
       "      <th>0</th>\n",
       "      <td>2014-01-31</td>\n",
       "      <td>1000000</td>\n",
       "      <td>5000000</td>\n",
       "      <td>0.0</td>\n",
       "      <td>0.0</td>\n",
       "    </tr>\n",
       "    <tr>\n",
       "      <th>1</th>\n",
       "      <td>2014-01-31</td>\n",
       "      <td>1000001</td>\n",
       "      <td>5000001</td>\n",
       "      <td>2.0</td>\n",
       "      <td>10.0</td>\n",
       "    </tr>\n",
       "    <tr>\n",
       "      <th>2</th>\n",
       "      <td>2014-01-31</td>\n",
       "      <td>1000002</td>\n",
       "      <td>5000002</td>\n",
       "      <td>0.0</td>\n",
       "      <td>0.0</td>\n",
       "    </tr>\n",
       "    <tr>\n",
       "      <th>3</th>\n",
       "      <td>2014-01-31</td>\n",
       "      <td>1000003</td>\n",
       "      <td>5000003</td>\n",
       "      <td>0.0</td>\n",
       "      <td>0.0</td>\n",
       "    </tr>\n",
       "    <tr>\n",
       "      <th>4</th>\n",
       "      <td>2014-01-31</td>\n",
       "      <td>1000004</td>\n",
       "      <td>5000004</td>\n",
       "      <td>1.0</td>\n",
       "      <td>5.0</td>\n",
       "    </tr>\n",
       "  </tbody>\n",
       "</table>\n",
       "</div>"
      ],
      "text/plain": [
       "  Month_Invoiced  Customer_Id  Invoice_Id  Subscription_Type  Amount\n",
       "0     2014-01-31      1000000     5000000                0.0     0.0\n",
       "1     2014-01-31      1000001     5000001                2.0    10.0\n",
       "2     2014-01-31      1000002     5000002                0.0     0.0\n",
       "3     2014-01-31      1000003     5000003                0.0     0.0\n",
       "4     2014-01-31      1000004     5000004                1.0     5.0"
      ]
     },
     "execution_count": 3,
     "metadata": {},
     "output_type": "execute_result"
    }
   ],
   "source": [
    "df.head()"
   ]
  },
  {
   "cell_type": "code",
   "execution_count": 4,
   "id": "9ed37431",
   "metadata": {},
   "outputs": [],
   "source": [
    "df['Month_Invoiced'] = df['Month_Invoiced'].astype('datetime64')\n",
    "df.index = df.Month_Invoiced"
   ]
  },
  {
   "cell_type": "code",
   "execution_count": 5,
   "id": "a7876e2d",
   "metadata": {},
   "outputs": [],
   "source": [
    "monthly = df[['Amount']].resample('M').sum()"
   ]
  },
  {
   "cell_type": "code",
   "execution_count": 6,
   "id": "751ad933",
   "metadata": {},
   "outputs": [],
   "source": [
    "monthly = monthly['2016':]"
   ]
  },
  {
   "cell_type": "markdown",
   "id": "f228b515",
   "metadata": {},
   "source": [
    "### Split"
   ]
  },
  {
   "cell_type": "code",
   "execution_count": 7,
   "id": "60c1fc2e",
   "metadata": {},
   "outputs": [],
   "source": [
    "# Making masks for splitting\n",
    "tr = monthly.index.year == 2016\n",
    "val = (monthly.index.year == 2017) & (monthly.index.month < 7)\n",
    "te = (monthly.index.year == 2017) & (monthly.index.month >= 7)"
   ]
  },
  {
   "cell_type": "code",
   "execution_count": 8,
   "id": "d98de801",
   "metadata": {},
   "outputs": [
    {
     "data": {
      "text/plain": [
       "True"
      ]
     },
     "execution_count": 8,
     "metadata": {},
     "output_type": "execute_result"
    }
   ],
   "source": [
    "# Splits based om masks\n",
    "train = monthly[tr]\n",
    "validate = monthly[val]\n",
    "test = monthly[te]\n",
    "\n",
    "# quality check\n",
    "len(train) + len(validate) + len(test) == len(monthly)"
   ]
  },
  {
   "cell_type": "markdown",
   "id": "d8d0668c",
   "metadata": {},
   "source": [
    "### Models"
   ]
  },
  {
   "cell_type": "code",
   "execution_count": 9,
   "id": "61db75f5",
   "metadata": {},
   "outputs": [],
   "source": [
    "# simple average\n",
    "validate['simp_avg'] = train.Amount.mean()"
   ]
  },
  {
   "cell_type": "code",
   "execution_count": 10,
   "id": "5faf5685",
   "metadata": {},
   "outputs": [],
   "source": [
    "# rolling average\n",
    "validate['rolling_3_month'] = train.Amount.rolling(3).mean()[-1]"
   ]
  },
  {
   "cell_type": "code",
   "execution_count": 11,
   "id": "9cbfdfbb",
   "metadata": {},
   "outputs": [],
   "source": [
    "# Holts\n",
    "model = sm.Holt(train['Amount'], exponential = False) # make thing\n",
    "\n",
    "model = model.fit(smoothing_level = .1, smoothing_slope = .1, optimized = False) # fit thing\n",
    "\n",
    "validate['Holt1'] = model.predict(start = validate.index[0], \n",
    "                                       end = validate.index[-1]) # thing predicts"
   ]
  },
  {
   "cell_type": "code",
   "execution_count": 12,
   "id": "fd58e203",
   "metadata": {},
   "outputs": [],
   "source": [
    "# 9 month diff\n",
    "diff_9_month = train.Amount.diff(9).mean()\n",
    "validate['diff_9_month'] = list(train[6:].Amount)\n",
    "validate['diff_9_month'] = validate['diff_9_month'] + diff_9_month"
   ]
  },
  {
   "cell_type": "code",
   "execution_count": 13,
   "id": "a8290d9c",
   "metadata": {},
   "outputs": [
    {
     "data": {
      "text/plain": [
       "<AxesSubplot:xlabel='Month_Invoiced'>"
      ]
     },
     "execution_count": 13,
     "metadata": {},
     "output_type": "execute_result"
    },
    {
     "data": {
      "image/png": "[encoded data removed]",
      "text/plain": [
       "<Figure size 432x288 with 1 Axes>"
      ]
     },
     "metadata": {
      "needs_background": "light"
     },
     "output_type": "display_data"
    }
   ],
   "source": [
    "validate.plot()"
   ]
  },
  {
   "cell_type": "code",
   "execution_count": null,
   "id": "04a03472",
   "metadata": {},
   "outputs": [],
   "source": []
  }
 ],
 "metadata": {
  "kernelspec": {
   "display_name": "Python 3",
   "language": "python",
   "name": "python3"
  },
  "language_info": {
   "codemirror_mode": {
    "name": "ipython",
    "version": 3
   },
   "file_extension": ".py",
   "mimetype": "text/x-python",
   "name": "python",
   "nbconvert_exporter": "python",
   "pygments_lexer": "ipython3",
   "version": "3.8.8"
  }
 },
 "nbformat": 4,
 "nbformat_minor": 5
}
